{
 "cells": [
  {
   "cell_type": "markdown",
   "id": "caa9f70b",
   "metadata": {},
   "source": [
    "# Exercícios"
   ]
  },
  {
   "cell_type": "markdown",
   "id": "5703e93c",
   "metadata": {},
   "source": [
    "Python é uma linguagem de programação dinamicamente tipada. Isso significa que você não precisa declarar explicitamente o tipo de uma variável antes de usá-la. O tipo de uma variável é inferido durante a execução do programa."
   ]
  },
  {
   "cell_type": "code",
   "execution_count": 6,
   "id": "b71b530f",
   "metadata": {},
   "outputs": [
    {
     "name": "stdout",
     "output_type": "stream",
     "text": [
      "Ana\n"
     ]
    }
   ],
   "source": [
    "# variavel que guarda uma string\n",
    "nome = \"Ana\"\n",
    "print(nome)"
   ]
  },
  {
   "cell_type": "code",
   "execution_count": 7,
   "id": "3fa28e55",
   "metadata": {},
   "outputs": [
    {
     "name": "stdout",
     "output_type": "stream",
     "text": [
      "Idade: 25 anos\n",
      "Altura: 1.75 metros\n"
     ]
    }
   ],
   "source": [
    "# variavel que guarda um valor inteiro\n",
    "idade = 25\n",
    "# variavel que guarda um valor do tipo floata\n",
    "altura = 1.75\n",
    "\n",
    "#mostrando os valores\n",
    "print(\"Idade:\", idade, \"anos\")\n",
    "print(\"Altura:\", altura, \"metros\")"
   ]
  },
  {
   "cell_type": "code",
   "execution_count": 11,
   "id": "db642635",
   "metadata": {},
   "outputs": [
    {
     "name": "stdout",
     "output_type": "stream",
     "text": [
      "[1, 2, 3, 4, 5]\n"
     ]
    }
   ],
   "source": [
    "#lista\n",
    "lista_de_numeros = [1,2,3,4,5]\n",
    "print(lista_de_numeros)"
   ]
  },
  {
   "cell_type": "code",
   "execution_count": 14,
   "id": "4d7f6ede",
   "metadata": {},
   "outputs": [
    {
     "name": "stdout",
     "output_type": "stream",
     "text": [
      "True\n"
     ]
    }
   ],
   "source": [
    "#valor booleano\n",
    "condicao = True\n",
    "print(condicao)"
   ]
  },
  {
   "cell_type": "code",
   "execution_count": 15,
   "id": "c870af7c",
   "metadata": {},
   "outputs": [
    {
     "name": "stdout",
     "output_type": "stream",
     "text": [
      "(1, 2, 3)\n"
     ]
    }
   ],
   "source": [
    "#tupla\n",
    "minha_tupla = (1, 2, 3)\n",
    "print(minha_tupla)"
   ]
  },
  {
   "cell_type": "code",
   "execution_count": 16,
   "id": "1899300c",
   "metadata": {},
   "outputs": [
    {
     "name": "stdout",
     "output_type": "stream",
     "text": [
      "{'nome': 'João', 'idade': 25, 'cidade': 'Belém'}\n"
     ]
    }
   ],
   "source": [
    "#dicionario \n",
    "meu_dicionario = {\"nome\": \"João\", \"idade\": 25, \"cidade\": \"Belém\"}\n",
    "print(meu_dicionario)"
   ]
  },
  {
   "cell_type": "code",
   "execution_count": 17,
   "id": "ad54bd88",
   "metadata": {},
   "outputs": [
    {
     "name": "stdout",
     "output_type": "stream",
     "text": [
      "{1, 2, 3, 4, 5}\n"
     ]
    }
   ],
   "source": [
    "#set\n",
    "meu_conjunto = {1, 2, 3, 4, 5}\n",
    "print(meu_conjunto)"
   ]
  },
  {
   "cell_type": "markdown",
   "id": "300c88d6",
   "metadata": {},
   "source": [
    "Outros exemplos"
   ]
  },
  {
   "cell_type": "code",
   "execution_count": 4,
   "id": "1d8b6b4d",
   "metadata": {},
   "outputs": [
    {
     "name": "stdout",
     "output_type": "stream",
     "text": [
      "A soma é: 13.5\n"
     ]
    }
   ],
   "source": [
    "num_1 = 10\n",
    "num_2 = 3.5\n",
    "soma = num_1 + num_2\n",
    "print(\"A soma é:\", soma)"
   ]
  },
  {
   "cell_type": "code",
   "execution_count": 9,
   "id": "eae5bc52",
   "metadata": {},
   "outputs": [
    {
     "name": "stdout",
     "output_type": "stream",
     "text": [
      "Esse ano está muito quente.\n"
     ]
    }
   ],
   "source": [
    "texto = \"Esse ano está muito quente.\"\n",
    "print(texto)"
   ]
  },
  {
   "cell_type": "code",
   "execution_count": 18,
   "id": "cc009443",
   "metadata": {},
   "outputs": [],
   "source": [
    "frutas = {\n",
    "    \"banana\": {\"cor\": \"amarela\", \"sabor\": \"doce\"},\n",
    "    \"maça\": {\"cor\": \"vermelha\", \"sabor\": \"azedo\"},\n",
    "    \"uva\": {\"cor\": \"roxa\", \"sabor\": \"adocicado\"}\n",
    "}"
   ]
  },
  {
   "cell_type": "code",
   "execution_count": 20,
   "id": "0f464774",
   "metadata": {},
   "outputs": [
    {
     "name": "stdout",
     "output_type": "stream",
     "text": [
      "A banana é amarela e tem sabor doce\n"
     ]
    }
   ],
   "source": [
    "#acessando informações do dicionario\n",
    "print(\"A banana é\", frutas[\"banana\"][\"cor\"], \"e tem sabor\", frutas[\"banana\"][\"sabor\"])"
   ]
  },
  {
   "cell_type": "markdown",
   "id": "b921fdaf",
   "metadata": {},
   "source": [
    "É possivel verificar o tipo da variavel com o seguite comando type"
   ]
  },
  {
   "cell_type": "code",
   "execution_count": 21,
   "id": "321a830a",
   "metadata": {},
   "outputs": [
    {
     "name": "stdout",
     "output_type": "stream",
     "text": [
      "<class 'int'>\n"
     ]
    }
   ],
   "source": [
    "numero1 = 42\n",
    "print(type(numero))"
   ]
  },
  {
   "cell_type": "code",
   "execution_count": 23,
   "id": "25898f2a",
   "metadata": {},
   "outputs": [
    {
     "name": "stdout",
     "output_type": "stream",
     "text": [
      "<class 'float'>\n"
     ]
    }
   ],
   "source": [
    "numero2 = 3.14\n",
    "print(type(numero2))"
   ]
  },
  {
   "cell_type": "code",
   "execution_count": 24,
   "id": "9bfc4cc7",
   "metadata": {},
   "outputs": [
    {
     "name": "stdout",
     "output_type": "stream",
     "text": [
      "<class 'str'>\n"
     ]
    }
   ],
   "source": [
    "texto1 = \"Olá, Python!\"\n",
    "print(type(texto))"
   ]
  },
  {
   "cell_type": "code",
   "execution_count": 25,
   "id": "c87c1702",
   "metadata": {},
   "outputs": [
    {
     "name": "stdout",
     "output_type": "stream",
     "text": [
      "<class 'bool'>\n"
     ]
    }
   ],
   "source": [
    "boo1 = True\n",
    "print(type(boo1))"
   ]
  },
  {
   "cell_type": "code",
   "execution_count": 26,
   "id": "050013b8",
   "metadata": {},
   "outputs": [
    {
     "name": "stdout",
     "output_type": "stream",
     "text": [
      "<class 'list'>\n"
     ]
    }
   ],
   "source": [
    "lista_numeros = [1, 2, 3, 4, 5]\n",
    "print(type(lista_numeros))"
   ]
  },
  {
   "cell_type": "code",
   "execution_count": 28,
   "id": "ec65027e",
   "metadata": {},
   "outputs": [
    {
     "name": "stdout",
     "output_type": "stream",
     "text": [
      "<class 'dict'>\n"
     ]
    }
   ],
   "source": [
    "#print referente ao dicionario frutas criado acima na linha 20\n",
    "print(type(frutas))"
   ]
  },
  {
   "cell_type": "markdown",
   "id": "ef224340",
   "metadata": {},
   "source": [
    "## Mutabilidade e Imutabilidade:"
   ]
  },
  {
   "cell_type": "markdown",
   "id": "d6ac82c5",
   "metadata": {},
   "source": [
    "Alguns tipos de dados em Python são mutáveis (podem ser alterados após a criação), enquanto outros são imutáveis (não podem ser alterados). Listas são mutáveis, enquanto tuplas são imutáveis."
   ]
  },
  {
   "cell_type": "code",
   "execution_count": 30,
   "id": "eee4c4bf",
   "metadata": {},
   "outputs": [
    {
     "name": "stdout",
     "output_type": "stream",
     "text": [
      "[1, 2, 3]\n",
      "(4, 5, 6)\n"
     ]
    }
   ],
   "source": [
    "lista_mutavel = [1, 2, 3]\n",
    "tupla_imutavel = (4, 5, 6)\n",
    "\n",
    "print(lista_mutavel)\n",
    "print(tupla_imutavel)"
   ]
  },
  {
   "cell_type": "markdown",
   "id": "9226cdc4",
   "metadata": {},
   "source": [
    "## Casting (Conversão de Tipos):"
   ]
  },
  {
   "cell_type": "markdown",
   "id": "484ae807",
   "metadata": {},
   "source": [
    "Às vezes, é necessário converter um tipo de dado em outro. Python fornece funções como int(), float(), e str() para realizar essas conversões."
   ]
  },
  {
   "cell_type": "code",
   "execution_count": 34,
   "id": "0ba3c0ca",
   "metadata": {},
   "outputs": [
    {
     "name": "stdout",
     "output_type": "stream",
     "text": [
      "<class 'str'>\n",
      "<class 'int'>\n"
     ]
    }
   ],
   "source": [
    "numero_texto = \"123\"\n",
    "print(type(numero_texto))\n",
    "numero = int(numero_texto)\n",
    "print(type(numero))"
   ]
  },
  {
   "cell_type": "markdown",
   "id": "2965b5f0",
   "metadata": {},
   "source": [
    "## Operações com Tipos de Dados:"
   ]
  },
  {
   "cell_type": "markdown",
   "id": "d66e3090",
   "metadata": {},
   "source": [
    "Entender como operações são realizadas em diferentes tipos de dados é crucial. Por exemplo, operações matemáticas em números, concatenação de strings, e operações em listas."
   ]
  },
  {
   "cell_type": "code",
   "execution_count": 37,
   "id": "41768158",
   "metadata": {},
   "outputs": [
    {
     "name": "stdout",
     "output_type": "stream",
     "text": [
      "7\n",
      "Olá tudo certo?\n"
     ]
    }
   ],
   "source": [
    "a = 5\n",
    "b = 2\n",
    "resultado = a + b  # Soma de números inteiros\n",
    "print(resultado)\n",
    "\n",
    "texto_1 = \"Olá\"\n",
    "texto_2 = \"tudo certo?\"\n",
    "concatenado = texto_1 + \" \" + texto_2  # Concatenação de strings\n",
    "print(concatenado)"
   ]
  },
  {
   "cell_type": "markdown",
   "id": "730fb080",
   "metadata": {},
   "source": [
    "## Métodos de String e Listas: "
   ]
  },
  {
   "cell_type": "markdown",
   "id": "63698fdb",
   "metadata": {},
   "source": [
    "Strings e listas em Python têm métodos integrados que podem ser úteis. Por exemplo, métodos de string para manipulação de texto e métodos de lista para adicionar, remover elementos."
   ]
  },
  {
   "cell_type": "code",
   "execution_count": 40,
   "id": "200ce20a",
   "metadata": {},
   "outputs": [
    {
     "name": "stdout",
     "output_type": "stream",
     "text": [
      "JACA É MUITO RUIM\n",
      "jaca é muito ruim\n",
      "[1, 2, 3, 4]\n"
     ]
    }
   ],
   "source": [
    "frase = \"Jaca é muito ruim\"\n",
    "print(frase.upper())  # Converte a string para maiúsculas\n",
    "print(frase.lower()) # Converte a string para minúsculo\n",
    "\n",
    "minha_lista = [1, 2, 3]\n",
    "minha_lista.append(4)  # Adiciona o elemento 4 à lista\n",
    "print(minha_lista)"
   ]
  },
  {
   "cell_type": "code",
   "execution_count": null,
   "id": "d6063eb5",
   "metadata": {},
   "outputs": [],
   "source": []
  }
 ],
 "metadata": {
  "kernelspec": {
   "display_name": "Python 3 (ipykernel)",
   "language": "python",
   "name": "python3"
  },
  "language_info": {
   "codemirror_mode": {
    "name": "ipython",
    "version": 3
   },
   "file_extension": ".py",
   "mimetype": "text/x-python",
   "name": "python",
   "nbconvert_exporter": "python",
   "pygments_lexer": "ipython3",
   "version": "3.10.9"
  }
 },
 "nbformat": 4,
 "nbformat_minor": 5
}
